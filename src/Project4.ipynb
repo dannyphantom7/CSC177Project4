{
  "cells": [
    {
      "cell_type": "markdown",
      "metadata": {
        "id": "2x5wKn9UodMp"
      },
      "source": [
        "# **Cluster Analysis, ANN and Text Mining Project**"
      ]
    },
    {
      "cell_type": "markdown",
      "metadata": {
        "id": "7T3_cjavodMq"
      },
      "source": [
        "### Data Preprocessing _IMDB Dataset_"
      ]
    },
    {
      "cell_type": "code",
      "execution_count": 21,
      "metadata": {
        "id": "AICdSKvkodMr"
      },
      "outputs": [],
      "source": [
        "# Import necessary libraries\n",
        "import pandas as pd\n",
        "import numpy as np\n",
        "from sklearn.model_selection import train_test_split\n",
        "from sklearn.preprocessing import LabelEncoder, StandardScaler\n",
        "import matplotlib.pyplot as plt\n",
        "import seaborn as sns\n",
        "from sklearn.preprocessing import StandardScaler\n",
        "from sklearn.cluster import KMeans\n",
        "from sklearn.metrics import silhouette_score\n",
        "from tensorflow.keras.models import Sequential\n",
        "from tensorflow.keras.layers import Dense\n",
        "from tensorflow.keras.optimizers import Adam\n",
        "from tensorflow.keras.utils import to_categorical\n"
      ]
    },
    {
      "cell_type": "code",
      "execution_count": 22,
      "metadata": {
        "id": "gcFTqnsSodMr"
      },
      "outputs": [],
      "source": [
        "# Load the dataset\n",
        "file_path = '../Data/imdb_dataset.csv'  # Update the path as necessary\n",
        "data = pd.read_csv(file_path)"
      ]
    },
    {
      "cell_type": "code",
      "execution_count": 23,
      "metadata": {
        "id": "vAGXE-3OodMs",
        "outputId": "e03533fe-668b-4ca7-84b0-f03919a34e87",
        "colab": {
          "base_uri": "https://localhost:8080/"
        }
      },
      "outputs": [
        {
          "output_type": "stream",
          "name": "stdout",
          "text": [
            "First few rows of the dataset:\n",
            "   Unnamed: 0                 title    title_type   genre  runtime  \\\n",
            "0           1           Filly Brown  Feature Film   Drama     80.0   \n",
            "1           2              The Dish  Feature Film   Drama    101.0   \n",
            "2           3   Waiting for Guffman  Feature Film  Comedy     84.0   \n",
            "3           4  The Age of Innocence  Feature Film   Drama    139.0   \n",
            "4           5           Malevolence  Feature Film  Horror     90.0   \n",
            "\n",
            "  mpaa_rating                    studio  thtr_rel_year  thtr_rel_month  \\\n",
            "0           R       Indomina Media Inc.           2013               4   \n",
            "1       PG-13     Warner Bros. Pictures           2001               3   \n",
            "2           R    Sony Pictures Classics           1996               8   \n",
            "3          PG         Columbia Pictures           1993              10   \n",
            "4           R  Anchor Bay Entertainment           2004               9   \n",
            "\n",
            "   thtr_rel_day  ...  best_dir_win  top200_box           director  \\\n",
            "0            19  ...            no          no   Michael D. Olmos   \n",
            "1            14  ...            no          no          Rob Sitch   \n",
            "2            21  ...            no          no  Christopher Guest   \n",
            "3             1  ...           yes          no    Martin Scorsese   \n",
            "4            10  ...            no          no        Stevan Mena   \n",
            "\n",
            "              actor1              actor2                actor3  \\\n",
            "0     Gina Rodriguez        Jenni Rivera  Lou Diamond Phillips   \n",
            "1          Sam Neill    Kevin Harrington     Patrick Warburton   \n",
            "2  Christopher Guest    Catherine O'Hara          Parker Posey   \n",
            "3   Daniel Day-Lewis   Michelle Pfeiffer          Winona Ryder   \n",
            "4      Samantha Dark  R. Brandon Johnson       Brandon Johnson   \n",
            "\n",
            "             actor4               actor5  \\\n",
            "0     Emilio Rivera  Joseph Julian Soria   \n",
            "1          Tom Long       Genevieve Mooy   \n",
            "2       Eugene Levy          Bob Balaban   \n",
            "3  Richard E. Grant         Alec McCowen   \n",
            "4     Heather Magee       Richard Glover   \n",
            "\n",
            "                               imdb_url  \\\n",
            "0  http://www.imdb.com/title/tt1869425/   \n",
            "1  http://www.imdb.com/title/tt0205873/   \n",
            "2  http://www.imdb.com/title/tt0118111/   \n",
            "3  http://www.imdb.com/title/tt0106226/   \n",
            "4  http://www.imdb.com/title/tt0388230/   \n",
            "\n",
            "                                             rt_url  \n",
            "0      //www.rottentomatoes.com/m/filly_brown_2012/  \n",
            "1                  //www.rottentomatoes.com/m/dish/  \n",
            "2   //www.rottentomatoes.com/m/waiting_for_guffman/  \n",
            "3      //www.rottentomatoes.com/m/age_of_innocence/  \n",
            "4  //www.rottentomatoes.com/m/10004684-malevolence/  \n",
            "\n",
            "[5 rows x 33 columns]\n"
          ]
        }
      ],
      "source": [
        "# Display basic information about the dataset\n",
        "print(\"First few rows of the dataset:\")\n",
        "print(data.head())\n"
      ]
    },
    {
      "cell_type": "code",
      "execution_count": 24,
      "metadata": {
        "id": "N-ZGVzQiodMs",
        "outputId": "71eff7a6-0b01-4755-c633-58a5511387e2",
        "colab": {
          "base_uri": "https://localhost:8080/"
        }
      },
      "outputs": [
        {
          "output_type": "stream",
          "name": "stdout",
          "text": [
            "\n",
            "Dataset Information:\n",
            "<class 'pandas.core.frame.DataFrame'>\n",
            "RangeIndex: 651 entries, 0 to 650\n",
            "Data columns (total 33 columns):\n",
            " #   Column            Non-Null Count  Dtype  \n",
            "---  ------            --------------  -----  \n",
            " 0   Unnamed: 0        651 non-null    int64  \n",
            " 1   title             651 non-null    object \n",
            " 2   title_type        651 non-null    object \n",
            " 3   genre             651 non-null    object \n",
            " 4   runtime           650 non-null    float64\n",
            " 5   mpaa_rating       651 non-null    object \n",
            " 6   studio            643 non-null    object \n",
            " 7   thtr_rel_year     651 non-null    int64  \n",
            " 8   thtr_rel_month    651 non-null    int64  \n",
            " 9   thtr_rel_day      651 non-null    int64  \n",
            " 10  dvd_rel_year      643 non-null    float64\n",
            " 11  dvd_rel_month     643 non-null    float64\n",
            " 12  dvd_rel_day       643 non-null    float64\n",
            " 13  imdb_rating       651 non-null    float64\n",
            " 14  imdb_num_votes    651 non-null    int64  \n",
            " 15  critics_rating    651 non-null    object \n",
            " 16  critics_score     651 non-null    int64  \n",
            " 17  audience_rating   651 non-null    object \n",
            " 18  audience_score    651 non-null    int64  \n",
            " 19  best_pic_nom      651 non-null    object \n",
            " 20  best_pic_win      651 non-null    object \n",
            " 21  best_actor_win    651 non-null    object \n",
            " 22  best_actress_win  651 non-null    object \n",
            " 23  best_dir_win      651 non-null    object \n",
            " 24  top200_box        651 non-null    object \n",
            " 25  director          649 non-null    object \n",
            " 26  actor1            649 non-null    object \n",
            " 27  actor2            644 non-null    object \n",
            " 28  actor3            642 non-null    object \n",
            " 29  actor4            638 non-null    object \n",
            " 30  actor5            636 non-null    object \n",
            " 31  imdb_url          651 non-null    object \n",
            " 32  rt_url            651 non-null    object \n",
            "dtypes: float64(5), int64(7), object(21)\n",
            "memory usage: 168.0+ KB\n",
            "None\n"
          ]
        }
      ],
      "source": [
        "print(\"\\nDataset Information:\")\n",
        "print(data.info())"
      ]
    },
    {
      "cell_type": "code",
      "execution_count": 25,
      "metadata": {
        "id": "1v8BRJx8odMs",
        "outputId": "44d6c9e6-b49d-41a3-ed75-7936ce836bf5",
        "colab": {
          "base_uri": "https://localhost:8080/"
        }
      },
      "outputs": [
        {
          "output_type": "stream",
          "name": "stdout",
          "text": [
            "\n",
            "Missing values in the dataset:\n",
            "Unnamed: 0           0\n",
            "title                0\n",
            "title_type           0\n",
            "genre                0\n",
            "runtime              1\n",
            "mpaa_rating          0\n",
            "studio               8\n",
            "thtr_rel_year        0\n",
            "thtr_rel_month       0\n",
            "thtr_rel_day         0\n",
            "dvd_rel_year         8\n",
            "dvd_rel_month        8\n",
            "dvd_rel_day          8\n",
            "imdb_rating          0\n",
            "imdb_num_votes       0\n",
            "critics_rating       0\n",
            "critics_score        0\n",
            "audience_rating      0\n",
            "audience_score       0\n",
            "best_pic_nom         0\n",
            "best_pic_win         0\n",
            "best_actor_win       0\n",
            "best_actress_win     0\n",
            "best_dir_win         0\n",
            "top200_box           0\n",
            "director             2\n",
            "actor1               2\n",
            "actor2               7\n",
            "actor3               9\n",
            "actor4              13\n",
            "actor5              15\n",
            "imdb_url             0\n",
            "rt_url               0\n",
            "dtype: int64\n"
          ]
        }
      ],
      "source": [
        "# Check for missing values\n",
        "print(\"\\nMissing values in the dataset:\")\n",
        "print(data.isnull().sum())"
      ]
    },
    {
      "cell_type": "code",
      "execution_count": 26,
      "metadata": {
        "id": "XOTFwkVModMt",
        "outputId": "4b90ed92-4e44-43f1-9aae-66cab5d30227",
        "colab": {
          "base_uri": "https://localhost:8080/"
        }
      },
      "outputs": [
        {
          "output_type": "stream",
          "name": "stdout",
          "text": [
            "\n",
            "Missing values after handling:\n",
            "Unnamed: 0          0\n",
            "title               0\n",
            "title_type          0\n",
            "genre               0\n",
            "runtime             0\n",
            "mpaa_rating         0\n",
            "studio              0\n",
            "thtr_rel_year       0\n",
            "thtr_rel_month      0\n",
            "thtr_rel_day        0\n",
            "dvd_rel_year        0\n",
            "dvd_rel_month       0\n",
            "dvd_rel_day         0\n",
            "imdb_rating         0\n",
            "imdb_num_votes      0\n",
            "critics_rating      0\n",
            "critics_score       0\n",
            "audience_rating     0\n",
            "audience_score      0\n",
            "best_pic_nom        0\n",
            "best_pic_win        0\n",
            "best_actor_win      0\n",
            "best_actress_win    0\n",
            "best_dir_win        0\n",
            "top200_box          0\n",
            "director            0\n",
            "actor1              0\n",
            "actor2              0\n",
            "actor3              0\n",
            "actor4              0\n",
            "actor5              0\n",
            "imdb_url            0\n",
            "rt_url              0\n",
            "dtype: int64\n"
          ]
        }
      ],
      "source": [
        "# Step 1: Handle Missing Values\n",
        "# Replace missing values in numerical columns with the median\n",
        "numerical_columns = data.select_dtypes(include=[np.number]).columns\n",
        "data[numerical_columns] = data[numerical_columns].fillna(data[numerical_columns].median())\n",
        "\n",
        "# Replace missing values in categorical columns with the mode\n",
        "categorical_columns = data.select_dtypes(include=[object]).columns\n",
        "for col in categorical_columns:\n",
        "    data[col] = data[col].fillna(data[col].mode()[0])\n",
        "\n",
        "print(\"\\nMissing values after handling:\")\n",
        "print(data.isnull().sum())\n"
      ]
    },
    {
      "cell_type": "code",
      "execution_count": 27,
      "metadata": {
        "id": "6xCTD0vCodMt"
      },
      "outputs": [],
      "source": [
        "# Step 2: Encode Categorical Variables\n",
        "# Label encode binary categorical variables\n",
        "label_encoder = LabelEncoder()\n",
        "binary_columns = ['mpaa_rating', 'critics_rating', 'audience_rating',\n",
        "                  'best_pic_nom', 'best_pic_win', 'best_actor_win',\n",
        "                  'best_actress_win', 'best_dir_win', 'top200_box']\n",
        "\n",
        "for col in binary_columns:\n",
        "    if col in data.columns:\n",
        "        data[col] = label_encoder.fit_transform(data[col])\n",
        "\n",
        "# One-hot encode multi-class categorical variables\n",
        "data = pd.get_dummies(data, columns=['genre', 'studio'], drop_first=True)\n"
      ]
    },
    {
      "cell_type": "code",
      "execution_count": 28,
      "metadata": {
        "id": "6qT8BHSSodMt"
      },
      "outputs": [],
      "source": [
        "# Step 3: Feature Scaling\n",
        "# Normalize numerical columns\n",
        "scaler = StandardScaler()\n",
        "data[numerical_columns] = scaler.fit_transform(data[numerical_columns])\n",
        "\n",
        "# Drop unnecessary columns\n",
        "columns_to_drop = ['imdb_url', 'rt_url', 'title']\n",
        "data = data.drop(columns=columns_to_drop, errors='ignore')\n"
      ]
    },
    {
      "cell_type": "code",
      "execution_count": 29,
      "metadata": {
        "id": "if84dwznodMt"
      },
      "outputs": [],
      "source": [
        "# Step 4: Train-Test Split\n",
        "# Define features (X) and target variable (y)\n",
        "X = data.drop('imdb_rating', axis=1)  # Replace 'imdb_rating' with the actual target column\n",
        "y = data['imdb_rating']"
      ]
    },
    {
      "cell_type": "code",
      "execution_count": 30,
      "metadata": {
        "id": "CuQcd7ChodMu",
        "outputId": "238bba4e-4274-48de-eba4-12226ebd6efc",
        "colab": {
          "base_uri": "https://localhost:8080/"
        }
      },
      "outputs": [
        {
          "output_type": "stream",
          "name": "stdout",
          "text": [
            "\n",
            "Training and testing data split complete.\n",
            "Training data shape: (520, 247)\n",
            "Testing data shape: (131, 247)\n"
          ]
        }
      ],
      "source": [
        "# Split the dataset into training and testing sets (80% train, 20% test)\n",
        "X_train, X_test, y_train, y_test = train_test_split(X, y, test_size=0.2, random_state=42)\n",
        "\n",
        "print(\"\\nTraining and testing data split complete.\")\n",
        "print(f\"Training data shape: {X_train.shape}\")\n",
        "print(f\"Testing data shape: {X_test.shape}\")"
      ]
    },
    {
      "cell_type": "code",
      "execution_count": 31,
      "metadata": {
        "id": "ZnS3NAw2odMu",
        "outputId": "982dc542-2d67-464b-de61-ff8753a04d3b",
        "colab": {
          "base_uri": "https://localhost:8080/",
          "height": 799
        }
      },
      "outputs": [
        {
          "output_type": "display_data",
          "data": {
            "text/plain": [
              "<Figure size 1200x800 with 2 Axes>"
            ],
            "image/png": "[encoded data removed]"
          },
          "metadata": {}
        }
      ],
      "source": [
        "# Step 5: Visualize Important Features (Optional)\n",
        "# Correlation matrix with only numeric columns\n",
        "numeric_data = data.select_dtypes(include=[np.number])  # Ensure only numeric columns are selected\n",
        "\n",
        "plt.figure(figsize=(12, 8))\n",
        "sns.heatmap(numeric_data.corr(), annot=False, cmap=\"coolwarm\")\n",
        "plt.title(\"Correlation Matrix of Processed Dataset\")\n",
        "plt.show()"
      ]
    },
    {
      "cell_type": "markdown",
      "metadata": {
        "id": "x9F25BxXodMu"
      },
      "source": [
        "# Clustering Model"
      ]
    },
    {
      "cell_type": "code",
      "execution_count": 31,
      "metadata": {
        "id": "MNIJhylpodMu"
      },
      "outputs": [],
      "source": []
    },
    {
      "cell_type": "code",
      "execution_count": 31,
      "metadata": {
        "id": "wuBMcccfodMu"
      },
      "outputs": [],
      "source": []
    },
    {
      "cell_type": "markdown",
      "metadata": {
        "id": "3utQmpnIodMu"
      },
      "source": [
        "# Text Mining"
      ]
    },
    {
      "cell_type": "code",
      "execution_count": 31,
      "metadata": {
        "id": "KWxyyZJ8odMv"
      },
      "outputs": [],
      "source": []
    },
    {
      "cell_type": "code",
      "execution_count": 31,
      "metadata": {
        "id": "A-eq2QqJodMv"
      },
      "outputs": [],
      "source": []
    },
    {
      "cell_type": "markdown",
      "metadata": {
        "id": "fMyMvKz-odMv"
      },
      "source": [
        "# ANN Preprocessing"
      ]
    },
    {
      "cell_type": "code",
      "execution_count": 32,
      "metadata": {
        "id": "fYr9OxC5odMv"
      },
      "outputs": [],
      "source": [
        "# Load the dataset\n",
        "file_path = '../Data/Admission_Predict_Ver1.1_small_data_set_for_Linear_Regression.csv'\n",
        "data = pd.read_csv(file_path)"
      ]
    },
    {
      "cell_type": "code",
      "execution_count": 33,
      "metadata": {
        "id": "g9TUStGModMv",
        "outputId": "803e4466-53f1-4ff4-cab0-f4c4afafca97",
        "colab": {
          "base_uri": "https://localhost:8080/"
        }
      },
      "outputs": [
        {
          "output_type": "stream",
          "name": "stdout",
          "text": [
            "First few rows of the dataset:\n",
            "   Serial No.  GRE Score  TOEFL Score  University Rating  SOP  LOR   CGPA  \\\n",
            "0           1        337          118                  4  4.5   4.5  9.65   \n",
            "1           2        324          107                  4  4.0   4.5  8.87   \n",
            "2           3        316          104                  3  3.0   3.5  8.00   \n",
            "3           4        322          110                  3  3.5   2.5  8.67   \n",
            "4           5        314          103                  2  2.0   3.0  8.21   \n",
            "\n",
            "   Research  Chance of Admit   \n",
            "0         1              0.92  \n",
            "1         1              0.76  \n",
            "2         1              0.72  \n",
            "3         1              0.80  \n",
            "4         0              0.65  \n"
          ]
        }
      ],
      "source": [
        "# Display the first few rows and dataset information\n",
        "print(\"First few rows of the dataset:\")\n",
        "print(data.head())"
      ]
    },
    {
      "cell_type": "code",
      "execution_count": 34,
      "metadata": {
        "id": "KXhFtkaiodMv",
        "outputId": "48c9764a-53c5-4eac-d887-9af486ec8e04",
        "colab": {
          "base_uri": "https://localhost:8080/"
        }
      },
      "outputs": [
        {
          "output_type": "stream",
          "name": "stdout",
          "text": [
            "\n",
            "Dataset Information:\n",
            "<class 'pandas.core.frame.DataFrame'>\n",
            "RangeIndex: 500 entries, 0 to 499\n",
            "Data columns (total 9 columns):\n",
            " #   Column             Non-Null Count  Dtype  \n",
            "---  ------             --------------  -----  \n",
            " 0   Serial No.         500 non-null    int64  \n",
            " 1   GRE Score          500 non-null    int64  \n",
            " 2   TOEFL Score        500 non-null    int64  \n",
            " 3   University Rating  500 non-null    int64  \n",
            " 4   SOP                500 non-null    float64\n",
            " 5   LOR                500 non-null    float64\n",
            " 6   CGPA               500 non-null    float64\n",
            " 7   Research           500 non-null    int64  \n",
            " 8   Chance of Admit    500 non-null    float64\n",
            "dtypes: float64(4), int64(5)\n",
            "memory usage: 35.3 KB\n",
            "None\n"
          ]
        }
      ],
      "source": [
        "print(\"\\nDataset Information:\")\n",
        "print(data.info())"
      ]
    },
    {
      "cell_type": "code",
      "execution_count": 35,
      "metadata": {
        "id": "WFQxSrrOodMv"
      },
      "outputs": [],
      "source": [
        "# Drop any irrelevant columns (e.g., 'Serial No.')\n",
        "if 'Serial No.' in data.columns:\n",
        "    data = data.drop(columns=['Serial No.'])"
      ]
    },
    {
      "cell_type": "code",
      "execution_count": 36,
      "metadata": {
        "id": "RsJ55l7podMw",
        "outputId": "ac2fc0c2-9efe-4a7b-f102-5c2a162320a4",
        "colab": {
          "base_uri": "https://localhost:8080/"
        }
      },
      "outputs": [
        {
          "output_type": "stream",
          "name": "stdout",
          "text": [
            "\n",
            "Missing values in the dataset:\n",
            "GRE Score            0\n",
            "TOEFL Score          0\n",
            "University Rating    0\n",
            "SOP                  0\n",
            "LOR                  0\n",
            "CGPA                 0\n",
            "Research             0\n",
            "Chance of Admit      0\n",
            "dtype: int64\n"
          ]
        }
      ],
      "source": [
        "# Check for missing values\n",
        "print(\"\\nMissing values in the dataset:\")\n",
        "print(data.isnull().sum())"
      ]
    },
    {
      "cell_type": "code",
      "execution_count": 37,
      "metadata": {
        "id": "Ae8upOtsodMw"
      },
      "outputs": [],
      "source": [
        "# Handling Missing Values (if any)\n",
        "# Replace missing values in numerical columns with their median\n",
        "data = data.fillna(data.median())"
      ]
    },
    {
      "cell_type": "code",
      "execution_count": 38,
      "metadata": {
        "id": "EbnULo-_odMw"
      },
      "outputs": [],
      "source": [
        "# Split the data into features and target variable\n",
        "X = data.drop(columns=['Chance of Admit '])\n",
        "y = data['Chance of Admit ']\n",
        "\n",
        "# Normalize the feature set\n",
        "scaler = StandardScaler()\n",
        "X_scaled = scaler.fit_transform(X)"
      ]
    },
    {
      "cell_type": "code",
      "execution_count": 39,
      "metadata": {
        "id": "94N9uDk6odMw",
        "outputId": "bba20b93-aa0d-4f31-f711-922cc3a8c3c3",
        "colab": {
          "base_uri": "https://localhost:8080/"
        }
      },
      "outputs": [
        {
          "output_type": "stream",
          "name": "stdout",
          "text": [
            "Training data shape: (400, 7)\n",
            "Testing data shape: (100, 7)\n"
          ]
        }
      ],
      "source": [
        "# Split the data into training and testing sets\n",
        "X_train, X_test, y_train, y_test = train_test_split(X_scaled, y, test_size=0.2, random_state=42)\n",
        "\n",
        "# Display the shapes of the resulting datasets\n",
        "print(f\"Training data shape: {X_train.shape}\")\n",
        "print(f\"Testing data shape: {X_test.shape}\")"
      ]
    },
    {
      "cell_type": "code",
      "execution_count": 39,
      "metadata": {
        "id": "_PBn4CzModMw"
      },
      "outputs": [],
      "source": []
    },
    {
      "cell_type": "code",
      "execution_count": 39,
      "metadata": {
        "id": "aDEfv2ybodMx"
      },
      "outputs": [],
      "source": []
    },
    {
      "cell_type": "code",
      "execution_count": 39,
      "metadata": {
        "id": "--Zj7FauodMy"
      },
      "outputs": [],
      "source": []
    },
    {
      "cell_type": "markdown",
      "metadata": {
        "id": "mfukkDGqodMy"
      },
      "source": [
        "# ANN Model"
      ]
    },
    {
      "cell_type": "code",
      "execution_count": 40,
      "metadata": {
        "id": "Ml9z6P0-odMy",
        "outputId": "4866a4f1-f790-4476-88d3-19fbc62a35b8",
        "colab": {
          "base_uri": "https://localhost:8080/"
        }
      },
      "outputs": [
        {
          "output_type": "stream",
          "name": "stdout",
          "text": [
            "Training set class distribution:\n",
            "Chance of Admit \n",
            "0    276\n",
            "1    124\n",
            "Name: count, dtype: int64\n",
            "\n",
            "Test set class distribution:\n",
            "Chance of Admit \n",
            "0    69\n",
            "1    31\n",
            "Name: count, dtype: int64\n",
            "Epoch 1/20\n",
            "\u001b[1m10/10\u001b[0m \u001b[32m━━━━━━━━━━━━━━━━━━━━\u001b[0m\u001b[37m\u001b[0m \u001b[1m2s\u001b[0m 29ms/step - accuracy: 0.6720 - loss: 0.6454 - val_accuracy: 0.8875 - val_loss: 0.5156\n",
            "Epoch 2/20\n",
            "\u001b[1m10/10\u001b[0m \u001b[32m━━━━━━━━━━━━━━━━━━━━\u001b[0m\u001b[37m\u001b[0m \u001b[1m0s\u001b[0m 5ms/step - accuracy: 0.8985 - loss: 0.4918 - val_accuracy: 0.9000 - val_loss: 0.4052\n",
            "Epoch 3/20\n",
            "\u001b[1m10/10\u001b[0m \u001b[32m━━━━━━━━━━━━━━━━━━━━\u001b[0m\u001b[37m\u001b[0m \u001b[1m0s\u001b[0m 5ms/step - accuracy: 0.9037 - loss: 0.3764 - val_accuracy: 0.8875 - val_loss: 0.3301\n",
            "Epoch 4/20\n",
            "\u001b[1m10/10\u001b[0m \u001b[32m━━━━━━━━━━━━━━━━━━━━\u001b[0m\u001b[37m\u001b[0m \u001b[1m0s\u001b[0m 7ms/step - accuracy: 0.9053 - loss: 0.3082 - val_accuracy: 0.9000 - val_loss: 0.2810\n",
            "Epoch 5/20\n",
            "\u001b[1m10/10\u001b[0m \u001b[32m━━━━━━━━━━━━━━━━━━━━\u001b[0m\u001b[37m\u001b[0m \u001b[1m0s\u001b[0m 7ms/step - accuracy: 0.8863 - loss: 0.2759 - val_accuracy: 0.9000 - val_loss: 0.2499\n",
            "Epoch 6/20\n",
            "\u001b[1m10/10\u001b[0m \u001b[32m━━━━━━━━━━━━━━━━━━━━\u001b[0m\u001b[37m\u001b[0m \u001b[1m0s\u001b[0m 7ms/step - accuracy: 0.9143 - loss: 0.2261 - val_accuracy: 0.8875 - val_loss: 0.2310\n",
            "Epoch 7/20\n",
            "\u001b[1m10/10\u001b[0m \u001b[32m━━━━━━━━━━━━━━━━━━━━\u001b[0m\u001b[37m\u001b[0m \u001b[1m0s\u001b[0m 6ms/step - accuracy: 0.9235 - loss: 0.2016 - val_accuracy: 0.8875 - val_loss: 0.2189\n",
            "Epoch 8/20\n",
            "\u001b[1m10/10\u001b[0m \u001b[32m━━━━━━━━━━━━━━━━━━━━\u001b[0m\u001b[37m\u001b[0m \u001b[1m0s\u001b[0m 5ms/step - accuracy: 0.8974 - loss: 0.2330 - val_accuracy: 0.9000 - val_loss: 0.2119\n",
            "Epoch 9/20\n",
            "\u001b[1m10/10\u001b[0m \u001b[32m━━━━━━━━━━━━━━━━━━━━\u001b[0m\u001b[37m\u001b[0m \u001b[1m0s\u001b[0m 9ms/step - accuracy: 0.9017 - loss: 0.2228 - val_accuracy: 0.9000 - val_loss: 0.2088\n",
            "Epoch 10/20\n",
            "\u001b[1m10/10\u001b[0m \u001b[32m━━━━━━━━━━━━━━━━━━━━\u001b[0m\u001b[37m\u001b[0m \u001b[1m0s\u001b[0m 7ms/step - accuracy: 0.9212 - loss: 0.1712 - val_accuracy: 0.9000 - val_loss: 0.2065\n",
            "Epoch 11/20\n",
            "\u001b[1m10/10\u001b[0m \u001b[32m━━━━━━━━━━━━━━━━━━━━\u001b[0m\u001b[37m\u001b[0m \u001b[1m0s\u001b[0m 7ms/step - accuracy: 0.9230 - loss: 0.1826 - val_accuracy: 0.8875 - val_loss: 0.2045\n",
            "Epoch 12/20\n",
            "\u001b[1m10/10\u001b[0m \u001b[32m━━━━━━━━━━━━━━━━━━━━\u001b[0m\u001b[37m\u001b[0m \u001b[1m0s\u001b[0m 7ms/step - accuracy: 0.9173 - loss: 0.1844 - val_accuracy: 0.8875 - val_loss: 0.2044\n",
            "Epoch 13/20\n",
            "\u001b[1m10/10\u001b[0m \u001b[32m━━━━━━━━━━━━━━━━━━━━\u001b[0m\u001b[37m\u001b[0m \u001b[1m0s\u001b[0m 6ms/step - accuracy: 0.9055 - loss: 0.1702 - val_accuracy: 0.9000 - val_loss: 0.2024\n",
            "Epoch 14/20\n",
            "\u001b[1m10/10\u001b[0m \u001b[32m━━━━━━━━━━━━━━━━━━━━\u001b[0m\u001b[37m\u001b[0m \u001b[1m0s\u001b[0m 5ms/step - accuracy: 0.9222 - loss: 0.1598 - val_accuracy: 0.9000 - val_loss: 0.2084\n",
            "Epoch 15/20\n",
            "\u001b[1m10/10\u001b[0m \u001b[32m━━━━━━━━━━━━━━━━━━━━\u001b[0m\u001b[37m\u001b[0m \u001b[1m0s\u001b[0m 8ms/step - accuracy: 0.9055 - loss: 0.1966 - val_accuracy: 0.9000 - val_loss: 0.2085\n",
            "Epoch 16/20\n",
            "\u001b[1m10/10\u001b[0m \u001b[32m━━━━━━━━━━━━━━━━━━━━\u001b[0m\u001b[37m\u001b[0m \u001b[1m0s\u001b[0m 7ms/step - accuracy: 0.9226 - loss: 0.1533 - val_accuracy: 0.8875 - val_loss: 0.2058\n",
            "Epoch 17/20\n",
            "\u001b[1m10/10\u001b[0m \u001b[32m━━━━━━━━━━━━━━━━━━━━\u001b[0m\u001b[37m\u001b[0m \u001b[1m0s\u001b[0m 8ms/step - accuracy: 0.9127 - loss: 0.1744 - val_accuracy: 0.9125 - val_loss: 0.2049\n",
            "Epoch 18/20\n",
            "\u001b[1m10/10\u001b[0m \u001b[32m━━━━━━━━━━━━━━━━━━━━\u001b[0m\u001b[37m\u001b[0m \u001b[1m0s\u001b[0m 5ms/step - accuracy: 0.9198 - loss: 0.1521 - val_accuracy: 0.9125 - val_loss: 0.2048\n",
            "Epoch 19/20\n",
            "\u001b[1m10/10\u001b[0m \u001b[32m━━━━━━━━━━━━━━━━━━━━\u001b[0m\u001b[37m\u001b[0m \u001b[1m0s\u001b[0m 7ms/step - accuracy: 0.9304 - loss: 0.1546 - val_accuracy: 0.9125 - val_loss: 0.2076\n",
            "Epoch 20/20\n",
            "\u001b[1m10/10\u001b[0m \u001b[32m━━━━━━━━━━━━━━━━━━━━\u001b[0m\u001b[37m\u001b[0m \u001b[1m0s\u001b[0m 5ms/step - accuracy: 0.9081 - loss: 0.1606 - val_accuracy: 0.9250 - val_loss: 0.2069\n",
            "\u001b[1m4/4\u001b[0m \u001b[32m━━━━━━━━━━━━━━━━━━━━\u001b[0m\u001b[37m\u001b[0m \u001b[1m0s\u001b[0m 13ms/step\n",
            "\u001b[1m4/4\u001b[0m \u001b[32m━━━━━━━━━━━━━━━━━━━━\u001b[0m\u001b[37m\u001b[0m \u001b[1m0s\u001b[0m 3ms/step - accuracy: 0.9317 - loss: 0.1763 \n",
            "Test Loss: 0.1956\n",
            "Test Accuracy: 0.9100\n",
            "\n",
            "Classification Report:\n",
            "              precision    recall  f1-score   support\n",
            "\n",
            "           0       0.97      0.90      0.93        69\n",
            "           1       0.81      0.94      0.87        31\n",
            "\n",
            "    accuracy                           0.91       100\n",
            "   macro avg       0.89      0.92      0.90       100\n",
            "weighted avg       0.92      0.91      0.91       100\n",
            "\n"
          ]
        }
      ],
      "source": [
        "from tensorflow.keras.models import Sequential\n",
        "from tensorflow.keras.layers import Dense, Input\n",
        "from sklearn.metrics import classification_report\n",
        "\n",
        "# Build the ANN model\n",
        "model = Sequential([\n",
        "    Input(shape=(X_train.shape[1],)),\n",
        "    Dense(64, activation='relu'),\n",
        "    Dense(32, activation='relu'),\n",
        "    Dense(1, activation='sigmoid')\n",
        "])\n",
        "\n",
        "# Drop irrelevant columns\n",
        "if 'Serial No.' in data.columns:\n",
        "    data = data.drop(columns=['Serial No.'])\n",
        "\n",
        "# Handle missing values\n",
        "data = data.fillna(data.median())\n",
        "\n",
        "# Binarize the target variable\n",
        "data['Chance of Admit '] = (data['Chance of Admit '] >= 0.8).astype(int)\n",
        "\n",
        "# Split features and target\n",
        "X = data.drop(columns=['Chance of Admit '])\n",
        "y = data['Chance of Admit ']\n",
        "\n",
        "# Normalize the feature set\n",
        "scaler = StandardScaler()\n",
        "X_scaled = scaler.fit_transform(X)\n",
        "\n",
        "# Stratified train-test split\n",
        "X_train, X_test, y_train, y_test = train_test_split(\n",
        "    X_scaled, y, test_size=0.2, random_state=42, stratify=y\n",
        ")\n",
        "\n",
        "# Check class distribution\n",
        "print(\"Training set class distribution:\")\n",
        "print(y_train.value_counts())\n",
        "print(\"\\nTest set class distribution:\")\n",
        "print(y_test.value_counts())\n",
        "\n",
        "\n",
        "# Compile the model\n",
        "model.compile(optimizer=Adam(learning_rate=0.001), loss='binary_crossentropy', metrics=['accuracy'])\n",
        "\n",
        "# Train the model\n",
        "history = model.fit(X_train, y_train, epochs=20, batch_size=32, validation_split=0.2, verbose=1)\n",
        "\n",
        "# Ensure y_test is binary\n",
        "y_test = y_test.astype(int)\n",
        "\n",
        "# Make predictions\n",
        "y_pred = (model.predict(X_test) > 0.5).astype(int)\n",
        "\n",
        "# Evaluate the model on the test set\n",
        "test_loss, test_accuracy = model.evaluate(X_test, y_test, verbose=1)\n",
        "print(f\"Test Loss: {test_loss:.4f}\")\n",
        "print(f\"Test Accuracy: {test_accuracy:.4f}\")\n",
        "\n",
        "# Print classification report with zero_division parameter\n",
        "print(\"\\nClassification Report:\")\n",
        "print(classification_report(y_test, y_pred, zero_division=0))\n"
      ]
    },
    {
      "cell_type": "code",
      "execution_count": 40,
      "metadata": {
        "id": "HFWqQ_b0odMy"
      },
      "outputs": [],
      "source": []
    },
    {
      "cell_type": "code",
      "execution_count": 40,
      "metadata": {
        "id": "ww6tkENWodMy"
      },
      "outputs": [],
      "source": []
    }
  ],
  "metadata": {
    "kernelspec": {
      "display_name": "base",
      "language": "python",
      "name": "python3"
    },
    "language_info": {
      "codemirror_mode": {
        "name": "ipython",
        "version": 3
      },
      "file_extension": ".py",
      "mimetype": "text/x-python",
      "name": "python",
      "nbconvert_exporter": "python",
      "pygments_lexer": "ipython3",
      "version": "3.12.4"
    },
    "colab": {
      "provenance": []
    }
  },
  "nbformat": 4,
  "nbformat_minor": 0
}